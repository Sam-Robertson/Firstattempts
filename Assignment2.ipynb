{
  "nbformat": 4,
  "nbformat_minor": 0,
  "metadata": {
    "colab": {
      "name": "Assignment2.ipynb",
      "provenance": [],
      "authorship_tag": "ABX9TyO1lVbO+0CAS0JwVD53UUJQ",
      "include_colab_link": true
    },
    "kernelspec": {
      "name": "python3",
      "display_name": "Python 3"
    },
    "language_info": {
      "name": "python"
    }
  },
  "cells": [
    {
      "cell_type": "markdown",
      "metadata": {
        "id": "view-in-github",
        "colab_type": "text"
      },
      "source": [
        "<a href=\"https://colab.research.google.com/github/Sam-Robertson/Firstattempts/blob/master/Assignment2.ipynb\" target=\"_parent\"><img src=\"https://colab.research.google.com/assets/colab-badge.svg\" alt=\"Open In Colab\"/></a>"
      ]
    },
    {
      "cell_type": "code",
      "execution_count": 12,
      "metadata": {
        "colab": {
          "base_uri": "https://localhost:8080/"
        },
        "id": "JaTyKJq3fdLK",
        "outputId": "3c960997-2f16-4fbb-a433-65e31c0a278b"
      },
      "outputs": [
        {
          "output_type": "stream",
          "name": "stderr",
          "text": [
            "/usr/local/lib/python3.7/dist-packages/pandas/core/generic.py:2615: UserWarning: The spaces in these column names will not be changed. In pandas versions < 0.14, spaces were converted to underscores.\n",
            "  method=method,\n"
          ]
        }
      ],
      "source": [
        "  import pandas as pd\n",
        "  import sqlite3\n",
        "  # import pyodbc\n",
        "  from google.colab import drive\n",
        "\n",
        "  # drive.mount('/content/drive')\n",
        "\n",
        "  project = pd.read_csv('/content/drive/My Drive/Assignment2/projects.csv')\n",
        "  resources = pd.read_csv('/content/drive/My Drive/Assignment2/resources.csv')\n",
        "  teachers = pd.read_csv('/content/drive/My Drive/Assignment2/teachers.csv')\n",
        "  schools = pd.read_csv('/content/drive/My Drive/Assignment2/schools.csv')\n",
        "  donations = pd.read_json('/content/drive/My Drive/Assignment2/donations.json')\n",
        "  cnx = sqlite3.connect('/content/drive/My Drive/Assignment2/donors.db')\n",
        "  donors = pd.read_sql_query(\"SELECT * FROM donors\", cnx)\n",
        "  \n",
        "  \n",
        "\n",
        "  df = project.merge(schools, how='inner', on='School ID')\n",
        "  df = df.merge(teachers, how='inner', on='Teacher ID')\n",
        "  df = df.merge(resources, how='inner', on='Project ID')\n",
        "  df = df.merge(donations, how='inner', on='Project ID')\n",
        "  df = df.merge(donors, how='inner', on='Donor ID')\n",
        "\n",
        "  # df\n",
        "\n",
        "  filterdf = df[df['School County'] == 'Utah']\n",
        "\n",
        "  avgDonations = filterdf['Donation Amount'].mean()\n",
        "  medianDonations = filterdf['Donation Amount'].median()\n",
        "  skewDonations = filterdf['Donation Amount'].skew()\n",
        "\n",
        "\n",
        "  conn = sqlite3.connect('donors_choose.db')\n",
        "\n",
        "  filterdf.to_sql(name=\"donors_choose\", con=conn, if_exists='replace', index=False)\n",
        "\n",
        "\n"
      ]
    },
    {
      "cell_type": "code",
      "source": [
        ""
      ],
      "metadata": {
        "id": "NWkSb-T7SLNY"
      },
      "execution_count": null,
      "outputs": []
    }
  ]
}